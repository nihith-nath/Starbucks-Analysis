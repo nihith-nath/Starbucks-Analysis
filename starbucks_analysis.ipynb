{
 "cells": [
  {
   "cell_type": "code",
   "execution_count": 22,
   "id": "a153dd25-3ba6-4366-898d-5172da1fd4fc",
   "metadata": {
    "tags": []
   },
   "outputs": [],
   "source": [
    "import pandas as pd\n",
    "import matplotlib.pyplot as plt\n",
    "import numpy as np\n",
    "import seaborn as sb"
   ]
  },
  {
   "cell_type": "code",
   "execution_count": 23,
   "id": "f85d9cf2-75cc-494c-ab00-65f5d7a2806a",
   "metadata": {
    "tags": []
   },
   "outputs": [
    {
     "name": "stdout",
     "output_type": "stream",
     "text": [
      "[['Coffee', 'Brewed Coffee', 'Short', '3', '0.1', '0', '0', '0', '5', '0', '0', '0', '0.3', '0%', '0%', '0%', '0%', '175'], ['Coffee', 'Brewed Coffee', 'Tall', '4', '0.1', '0', '0', '0', '10', '0', '0', '0', '0.5', '0%', '0%', '0%', '0%', '260'], ['Coffee', 'Brewed Coffee', 'Grande', '5', '0.1', '0', '0', '0', '10', '0', '0', '0', '1', '0%', '0%', '0%', '0%', '330'], ['Coffee', 'Brewed Coffee', 'Venti', '5', '0.1', '0', '0', '0', '10', '0', '0', '0', '1', '0%', '0%', '2%', '0%', '410'], ['Classic Espresso Drinks', 'CaffÃ¨ Latte', 'Short Nonfat Milk', '70', '0.1', '0.1', '0', '5', '75', '10', '0', '9', '6', '10%', '0%', '20%', '0%', '75']]\n",
      "18\n"
     ]
    }
   ],
   "source": [
    "\n",
    "inp_file = \"starbucks.csv\"\n",
    "drinks_data,header = [],''\n",
    "with open(inp_file, 'r') as inp:\n",
    "    for line in inp:\n",
    "        if line.strip():\n",
    "            if not header:\n",
    "                header = line.split(\",\")\n",
    "            else :\n",
    "                line_lst = line.strip('\\n').split(\",\")\n",
    "                drinks_data.append(line_lst)\n",
    "print(drinks_data[0:5])\n",
    "print(len(header))"
   ]
  },
  {
   "cell_type": "markdown",
   "id": "097c6998-c297-46a9-b621-ed850119c605",
   "metadata": {},
   "source": [
    "## alterantively we can use pandas for easily converting data in to DF"
   ]
  },
  {
   "cell_type": "code",
   "execution_count": 24,
   "id": "814702a7-ed5a-4aa5-8405-a485535b02cd",
   "metadata": {
    "tags": []
   },
   "outputs": [],
   "source": [
    "drinks_df = pd.read_csv(inp_file)"
   ]
  },
  {
   "cell_type": "code",
   "execution_count": 37,
   "id": "7a0fcb74-d272-468f-bdc6-bff6b7220cd0",
   "metadata": {
    "tags": []
   },
   "outputs": [
    {
     "data": {
      "text/plain": [
       "(242, 18)"
      ]
     },
     "execution_count": 37,
     "metadata": {},
     "output_type": "execute_result"
    }
   ],
   "source": [
    "drinks_df.shape"
   ]
  },
  {
   "cell_type": "code",
   "execution_count": 25,
   "id": "4f574628-a3ab-4134-a869-6860c091bfd3",
   "metadata": {
    "tags": []
   },
   "outputs": [
    {
     "data": {
      "text/html": [
       "<div>\n",
       "<style scoped>\n",
       "    .dataframe tbody tr th:only-of-type {\n",
       "        vertical-align: middle;\n",
       "    }\n",
       "\n",
       "    .dataframe tbody tr th {\n",
       "        vertical-align: top;\n",
       "    }\n",
       "\n",
       "    .dataframe thead th {\n",
       "        text-align: right;\n",
       "    }\n",
       "</style>\n",
       "<table border=\"1\" class=\"dataframe\">\n",
       "  <thead>\n",
       "    <tr style=\"text-align: right;\">\n",
       "      <th></th>\n",
       "      <th>Beverage_category</th>\n",
       "      <th>Beverage</th>\n",
       "      <th>Beverage_prep</th>\n",
       "      <th>Calories</th>\n",
       "      <th>Total Fat (g)</th>\n",
       "      <th>Trans Fat (g)</th>\n",
       "      <th>Saturated Fat (g)</th>\n",
       "      <th>Sodium (mg)</th>\n",
       "      <th>Total Carbohydrates (g)</th>\n",
       "      <th>Cholesterol (mg)</th>\n",
       "      <th>Dietary Fibre (g)</th>\n",
       "      <th>Sugars (g)</th>\n",
       "      <th>Protein (g)</th>\n",
       "      <th>Vitamin A (% DV)</th>\n",
       "      <th>Vitamin C (% DV)</th>\n",
       "      <th>Calcium (% DV)</th>\n",
       "      <th>Iron (% DV)</th>\n",
       "      <th>Caffeine (mg)</th>\n",
       "    </tr>\n",
       "  </thead>\n",
       "  <tbody>\n",
       "    <tr>\n",
       "      <th>0</th>\n",
       "      <td>Coffee</td>\n",
       "      <td>Brewed Coffee</td>\n",
       "      <td>Short</td>\n",
       "      <td>3</td>\n",
       "      <td>0.1</td>\n",
       "      <td>0.0</td>\n",
       "      <td>0.0</td>\n",
       "      <td>0</td>\n",
       "      <td>5</td>\n",
       "      <td>0</td>\n",
       "      <td>0</td>\n",
       "      <td>0</td>\n",
       "      <td>0.3</td>\n",
       "      <td>0%</td>\n",
       "      <td>0%</td>\n",
       "      <td>0%</td>\n",
       "      <td>0%</td>\n",
       "      <td>175</td>\n",
       "    </tr>\n",
       "    <tr>\n",
       "      <th>1</th>\n",
       "      <td>Coffee</td>\n",
       "      <td>Brewed Coffee</td>\n",
       "      <td>Tall</td>\n",
       "      <td>4</td>\n",
       "      <td>0.1</td>\n",
       "      <td>0.0</td>\n",
       "      <td>0.0</td>\n",
       "      <td>0</td>\n",
       "      <td>10</td>\n",
       "      <td>0</td>\n",
       "      <td>0</td>\n",
       "      <td>0</td>\n",
       "      <td>0.5</td>\n",
       "      <td>0%</td>\n",
       "      <td>0%</td>\n",
       "      <td>0%</td>\n",
       "      <td>0%</td>\n",
       "      <td>260</td>\n",
       "    </tr>\n",
       "    <tr>\n",
       "      <th>2</th>\n",
       "      <td>Coffee</td>\n",
       "      <td>Brewed Coffee</td>\n",
       "      <td>Grande</td>\n",
       "      <td>5</td>\n",
       "      <td>0.1</td>\n",
       "      <td>0.0</td>\n",
       "      <td>0.0</td>\n",
       "      <td>0</td>\n",
       "      <td>10</td>\n",
       "      <td>0</td>\n",
       "      <td>0</td>\n",
       "      <td>0</td>\n",
       "      <td>1.0</td>\n",
       "      <td>0%</td>\n",
       "      <td>0%</td>\n",
       "      <td>0%</td>\n",
       "      <td>0%</td>\n",
       "      <td>330</td>\n",
       "    </tr>\n",
       "    <tr>\n",
       "      <th>3</th>\n",
       "      <td>Coffee</td>\n",
       "      <td>Brewed Coffee</td>\n",
       "      <td>Venti</td>\n",
       "      <td>5</td>\n",
       "      <td>0.1</td>\n",
       "      <td>0.0</td>\n",
       "      <td>0.0</td>\n",
       "      <td>0</td>\n",
       "      <td>10</td>\n",
       "      <td>0</td>\n",
       "      <td>0</td>\n",
       "      <td>0</td>\n",
       "      <td>1.0</td>\n",
       "      <td>0%</td>\n",
       "      <td>0%</td>\n",
       "      <td>2%</td>\n",
       "      <td>0%</td>\n",
       "      <td>410</td>\n",
       "    </tr>\n",
       "    <tr>\n",
       "      <th>4</th>\n",
       "      <td>Classic Espresso Drinks</td>\n",
       "      <td>Caffè Latte</td>\n",
       "      <td>Short Nonfat Milk</td>\n",
       "      <td>70</td>\n",
       "      <td>0.1</td>\n",
       "      <td>0.1</td>\n",
       "      <td>0.0</td>\n",
       "      <td>5</td>\n",
       "      <td>75</td>\n",
       "      <td>10</td>\n",
       "      <td>0</td>\n",
       "      <td>9</td>\n",
       "      <td>6.0</td>\n",
       "      <td>10%</td>\n",
       "      <td>0%</td>\n",
       "      <td>20%</td>\n",
       "      <td>0%</td>\n",
       "      <td>75</td>\n",
       "    </tr>\n",
       "  </tbody>\n",
       "</table>\n",
       "</div>"
      ],
      "text/plain": [
       "         Beverage_category       Beverage      Beverage_prep  Calories   \n",
       "0                   Coffee  Brewed Coffee              Short         3  \\\n",
       "1                   Coffee  Brewed Coffee               Tall         4   \n",
       "2                   Coffee  Brewed Coffee             Grande         5   \n",
       "3                   Coffee  Brewed Coffee              Venti         5   \n",
       "4  Classic Espresso Drinks    Caffè Latte  Short Nonfat Milk        70   \n",
       "\n",
       "   Total Fat (g)  Trans Fat (g)   Saturated Fat (g)   Sodium (mg)   \n",
       "0            0.1             0.0                0.0             0  \\\n",
       "1            0.1             0.0                0.0             0   \n",
       "2            0.1             0.0                0.0             0   \n",
       "3            0.1             0.0                0.0             0   \n",
       "4            0.1             0.1                0.0             5   \n",
       "\n",
       "    Total Carbohydrates (g)   Cholesterol (mg)   Dietary Fibre (g)   \n",
       "0                          5                 0                   0  \\\n",
       "1                         10                 0                   0   \n",
       "2                         10                 0                   0   \n",
       "3                         10                 0                   0   \n",
       "4                         75                10                   0   \n",
       "\n",
       "    Sugars (g)   Protein (g)  Vitamin A (% DV)  Vitamin C (% DV)   \n",
       "0            0            0.3                0%               0%  \\\n",
       "1            0            0.5                0%               0%   \n",
       "2            0            1.0                0%               0%   \n",
       "3            0            1.0                0%               0%   \n",
       "4            9            6.0               10%               0%   \n",
       "\n",
       "   Calcium (% DV)  Iron (% DV)  Caffeine (mg)  \n",
       "0               0%           0%           175  \n",
       "1               0%           0%           260  \n",
       "2               0%           0%           330  \n",
       "3               2%           0%           410  \n",
       "4              20%           0%            75  "
      ]
     },
     "execution_count": 25,
     "metadata": {},
     "output_type": "execute_result"
    }
   ],
   "source": [
    "drinks_df.head()\n"
   ]
  },
  {
   "cell_type": "markdown",
   "id": "fb5a80be-f24b-4fa5-8cf3-7a87282d8354",
   "metadata": {
    "tags": []
   },
   "source": [
    "# handling missing values"
   ]
  },
  {
   "cell_type": "code",
   "execution_count": 91,
   "id": "17fedafe-3ede-4a05-89b8-2e6c1463bac0",
   "metadata": {
    "tags": []
   },
   "outputs": [
    {
     "data": {
      "text/plain": [
       "Beverage_category            0\n",
       "Beverage                     0\n",
       "Beverage_prep                0\n",
       "Calories                     0\n",
       " Total Fat (g)               0\n",
       "Trans Fat (g)                0\n",
       "Saturated Fat (g)            0\n",
       " Sodium (mg)                 0\n",
       " Total Carbohydrates (g)     0\n",
       "Cholesterol (mg)             0\n",
       " Dietary Fibre (g)           0\n",
       " Sugars (g)                  0\n",
       " Protein (g)                 0\n",
       "Vitamin A (% DV)             0\n",
       "Vitamin C (% DV)             0\n",
       " Calcium (% DV)              0\n",
       "Iron (% DV)                  0\n",
       "Caffeine (mg)                1\n",
       "dtype: int64"
      ]
     },
     "execution_count": 91,
     "metadata": {},
     "output_type": "execute_result"
    }
   ],
   "source": [
    "drinks_df.isna().sum()"
   ]
  },
  {
   "cell_type": "code",
   "execution_count": 95,
   "id": "8927c66a-bdcd-4c66-aa6f-aed926853b10",
   "metadata": {
    "tags": []
   },
   "outputs": [],
   "source": [
    "drinks_df.dropna(inplace = True)"
   ]
  },
  {
   "cell_type": "markdown",
   "id": "802edd7c-227f-426d-bb74-c6a78b6bfc77",
   "metadata": {},
   "source": [
    "## getting the data types of the columns in drinks_data"
   ]
  },
  {
   "cell_type": "code",
   "execution_count": 96,
   "id": "ab24c5f2-4f9d-4a4c-bf16-fef8b9d62108",
   "metadata": {
    "tags": []
   },
   "outputs": [
    {
     "name": "stdout",
     "output_type": "stream",
     "text": [
      "<class 'pandas.core.frame.DataFrame'>\n",
      "Index: 241 entries, 0 to 241\n",
      "Data columns (total 18 columns):\n",
      " #   Column                     Non-Null Count  Dtype  \n",
      "---  ------                     --------------  -----  \n",
      " 0   Beverage_category          241 non-null    object \n",
      " 1   Beverage                   241 non-null    object \n",
      " 2   Beverage_prep              241 non-null    object \n",
      " 3   Calories                   241 non-null    int64  \n",
      " 4    Total Fat (g)             241 non-null    object \n",
      " 5   Trans Fat (g)              241 non-null    float64\n",
      " 6   Saturated Fat (g)          241 non-null    float64\n",
      " 7    Sodium (mg)               241 non-null    int64  \n",
      " 8    Total Carbohydrates (g)   241 non-null    int64  \n",
      " 9   Cholesterol (mg)           241 non-null    int64  \n",
      " 10   Dietary Fibre (g)         241 non-null    int64  \n",
      " 11   Sugars (g)                241 non-null    int64  \n",
      " 12   Protein (g)               241 non-null    float64\n",
      " 13  Vitamin A (% DV)           241 non-null    object \n",
      " 14  Vitamin C (% DV)           241 non-null    object \n",
      " 15   Calcium (% DV)            241 non-null    object \n",
      " 16  Iron (% DV)                241 non-null    object \n",
      " 17  Caffeine (mg)              241 non-null    object \n",
      "dtypes: float64(3), int64(6), object(9)\n",
      "memory usage: 35.8+ KB\n"
     ]
    }
   ],
   "source": [
    "drinks_df.info()"
   ]
  },
  {
   "cell_type": "code",
   "execution_count": 97,
   "id": "53c52681-4905-47da-a357-9c66dd5f511e",
   "metadata": {
    "tags": []
   },
   "outputs": [
    {
     "data": {
      "text/plain": [
       "Index(['Beverage_category', 'Beverage', 'Beverage_prep', 'Calories',\n",
       "       ' Total Fat (g)', 'Trans Fat (g) ', 'Saturated Fat (g)', ' Sodium (mg)',\n",
       "       ' Total Carbohydrates (g) ', 'Cholesterol (mg)', ' Dietary Fibre (g)',\n",
       "       ' Sugars (g)', ' Protein (g) ', 'Vitamin A (% DV) ', 'Vitamin C (% DV)',\n",
       "       ' Calcium (% DV) ', 'Iron (% DV) ', 'Caffeine (mg)'],\n",
       "      dtype='object')"
      ]
     },
     "execution_count": 97,
     "metadata": {},
     "output_type": "execute_result"
    }
   ],
   "source": [
    "drinks_df.columns"
   ]
  },
  {
   "cell_type": "code",
   "execution_count": 98,
   "id": "31daf0b1-9a90-4451-8c07-abe826776f68",
   "metadata": {
    "tags": []
   },
   "outputs": [
    {
     "data": {
      "text/plain": [
       "<Axes: ylabel='Beverage_category'>"
      ]
     },
     "execution_count": 98,
     "metadata": {},
     "output_type": "execute_result"
    },
    {
     "data": {
      "image/png": "[encoded data removed]",
      "text/plain": [
       "<Figure size 640x480 with 1 Axes>"
      ]
     },
     "metadata": {},
     "output_type": "display_data"
    }
   ],
   "source": [
    "bev_counts =drinks_df['Beverage_category'].value_counts().sort_values(ascending=True)\n",
    "custom_palette = sb.color_palette(\"viridis\", len(bev_counts))\n",
    "bev_counts.plot(kind = \"barh\",color =custom_palette )\n"
   ]
  },
  {
   "cell_type": "code",
   "execution_count": 99,
   "id": "7db2054b-fe81-483d-b010-b791a952057b",
   "metadata": {
    "tags": []
   },
   "outputs": [
    {
     "data": {
      "text/html": [
       "<div>\n",
       "<style scoped>\n",
       "    .dataframe tbody tr th:only-of-type {\n",
       "        vertical-align: middle;\n",
       "    }\n",
       "\n",
       "    .dataframe tbody tr th {\n",
       "        vertical-align: top;\n",
       "    }\n",
       "\n",
       "    .dataframe thead th {\n",
       "        text-align: right;\n",
       "    }\n",
       "</style>\n",
       "<table border=\"1\" class=\"dataframe\">\n",
       "  <thead>\n",
       "    <tr style=\"text-align: right;\">\n",
       "      <th></th>\n",
       "      <th>Beverage_category</th>\n",
       "      <th>Beverage</th>\n",
       "      <th>Beverage_prep</th>\n",
       "      <th>Calories</th>\n",
       "      <th>Total Fat (g)</th>\n",
       "      <th>Trans Fat (g)</th>\n",
       "      <th>Saturated Fat (g)</th>\n",
       "      <th>Sodium (mg)</th>\n",
       "      <th>Total Carbohydrates (g)</th>\n",
       "      <th>Cholesterol (mg)</th>\n",
       "      <th>Dietary Fibre (g)</th>\n",
       "      <th>Sugars (g)</th>\n",
       "      <th>Protein (g)</th>\n",
       "      <th>Vitamin A (% DV)</th>\n",
       "      <th>Vitamin C (% DV)</th>\n",
       "      <th>Calcium (% DV)</th>\n",
       "      <th>Iron (% DV)</th>\n",
       "      <th>Caffeine (mg)</th>\n",
       "    </tr>\n",
       "  </thead>\n",
       "  <tbody>\n",
       "    <tr>\n",
       "      <th>128</th>\n",
       "      <td>Tazo® Tea Drinks</td>\n",
       "      <td>Tazo® Green Tea Latte</td>\n",
       "      <td>2% Milk</td>\n",
       "      <td>450</td>\n",
       "      <td>10</td>\n",
       "      <td>5.0</td>\n",
       "      <td>0.3</td>\n",
       "      <td>40</td>\n",
       "      <td>230</td>\n",
       "      <td>72</td>\n",
       "      <td>2</td>\n",
       "      <td>71</td>\n",
       "      <td>17.0</td>\n",
       "      <td>25%</td>\n",
       "      <td>20%</td>\n",
       "      <td>50%</td>\n",
       "      <td>6%</td>\n",
       "      <td>110</td>\n",
       "    </tr>\n",
       "    <tr>\n",
       "      <th>83</th>\n",
       "      <td>Signature Espresso Drinks</td>\n",
       "      <td>White Chocolate Mocha (Without Whipped Cream)</td>\n",
       "      <td>Venti Nonfat Milk</td>\n",
       "      <td>450</td>\n",
       "      <td>7</td>\n",
       "      <td>6.0</td>\n",
       "      <td>0.0</td>\n",
       "      <td>10</td>\n",
       "      <td>310</td>\n",
       "      <td>78</td>\n",
       "      <td>0</td>\n",
       "      <td>74</td>\n",
       "      <td>19.0</td>\n",
       "      <td>25%</td>\n",
       "      <td>2%</td>\n",
       "      <td>60%</td>\n",
       "      <td>2%</td>\n",
       "      <td>150</td>\n",
       "    </tr>\n",
       "    <tr>\n",
       "      <th>215</th>\n",
       "      <td>Frappuccino® Blended Coffee</td>\n",
       "      <td>Java Chip (Without Whipped Cream)</td>\n",
       "      <td>Whole Milk</td>\n",
       "      <td>460</td>\n",
       "      <td>10</td>\n",
       "      <td>7.0</td>\n",
       "      <td>0.2</td>\n",
       "      <td>15</td>\n",
       "      <td>340</td>\n",
       "      <td>90</td>\n",
       "      <td>2</td>\n",
       "      <td>84</td>\n",
       "      <td>7.0</td>\n",
       "      <td>6%</td>\n",
       "      <td>0%</td>\n",
       "      <td>15%</td>\n",
       "      <td>35%</td>\n",
       "      <td>145</td>\n",
       "    </tr>\n",
       "    <tr>\n",
       "      <th>85</th>\n",
       "      <td>Signature Espresso Drinks</td>\n",
       "      <td>White Chocolate Mocha (Without Whipped Cream)</td>\n",
       "      <td>Soymilk</td>\n",
       "      <td>460</td>\n",
       "      <td>13</td>\n",
       "      <td>6.0</td>\n",
       "      <td>0.0</td>\n",
       "      <td>5</td>\n",
       "      <td>290</td>\n",
       "      <td>70</td>\n",
       "      <td>1</td>\n",
       "      <td>64</td>\n",
       "      <td>16.0</td>\n",
       "      <td>15%</td>\n",
       "      <td>2%</td>\n",
       "      <td>60%</td>\n",
       "      <td>20%</td>\n",
       "      <td>150</td>\n",
       "    </tr>\n",
       "    <tr>\n",
       "      <th>84</th>\n",
       "      <td>Signature Espresso Drinks</td>\n",
       "      <td>White Chocolate Mocha (Without Whipped Cream)</td>\n",
       "      <td>2% Milk</td>\n",
       "      <td>510</td>\n",
       "      <td>15</td>\n",
       "      <td>9.0</td>\n",
       "      <td>0.2</td>\n",
       "      <td>35</td>\n",
       "      <td>330</td>\n",
       "      <td>77</td>\n",
       "      <td>0</td>\n",
       "      <td>74</td>\n",
       "      <td>19.0</td>\n",
       "      <td>20%</td>\n",
       "      <td>4%</td>\n",
       "      <td>60%</td>\n",
       "      <td>2%</td>\n",
       "      <td>150</td>\n",
       "    </tr>\n",
       "  </tbody>\n",
       "</table>\n",
       "</div>"
      ],
      "text/plain": [
       "               Beverage_category   \n",
       "128             Tazo® Tea Drinks  \\\n",
       "83     Signature Espresso Drinks   \n",
       "215  Frappuccino® Blended Coffee   \n",
       "85     Signature Espresso Drinks   \n",
       "84     Signature Espresso Drinks   \n",
       "\n",
       "                                          Beverage      Beverage_prep   \n",
       "128                          Tazo® Green Tea Latte            2% Milk  \\\n",
       "83   White Chocolate Mocha (Without Whipped Cream)  Venti Nonfat Milk   \n",
       "215              Java Chip (Without Whipped Cream)         Whole Milk   \n",
       "85   White Chocolate Mocha (Without Whipped Cream)            Soymilk   \n",
       "84   White Chocolate Mocha (Without Whipped Cream)            2% Milk   \n",
       "\n",
       "     Calories  Total Fat (g)  Trans Fat (g)   Saturated Fat (g)   Sodium (mg)   \n",
       "128       450             10             5.0                0.3            40  \\\n",
       "83        450              7             6.0                0.0            10   \n",
       "215       460             10             7.0                0.2            15   \n",
       "85        460             13             6.0                0.0             5   \n",
       "84        510             15             9.0                0.2            35   \n",
       "\n",
       "      Total Carbohydrates (g)   Cholesterol (mg)   Dietary Fibre (g)   \n",
       "128                        230                72                   2  \\\n",
       "83                         310                78                   0   \n",
       "215                        340                90                   2   \n",
       "85                         290                70                   1   \n",
       "84                         330                77                   0   \n",
       "\n",
       "      Sugars (g)   Protein (g)  Vitamin A (% DV)  Vitamin C (% DV)   \n",
       "128           71           17.0               25%              20%  \\\n",
       "83            74           19.0               25%               2%   \n",
       "215           84            7.0                6%               0%   \n",
       "85            64           16.0               15%               2%   \n",
       "84            74           19.0               20%               4%   \n",
       "\n",
       "     Calcium (% DV)  Iron (% DV)  Caffeine (mg)  \n",
       "128              50%           6%           110  \n",
       "83               60%           2%           150  \n",
       "215              15%          35%           145  \n",
       "85               60%          20%           150  \n",
       "84               60%           2%           150  "
      ]
     },
     "execution_count": 99,
     "metadata": {},
     "output_type": "execute_result"
    }
   ],
   "source": [
    "sorted_df = drinks_df.sort_values(by = 'Calories')\n",
    "sorted_df.head()\n",
    "sorted_df.tail()"
   ]
  },
  {
   "cell_type": "markdown",
   "id": "fd281070-ae14-4456-99bc-528ab926fd85",
   "metadata": {},
   "source": [
    "## average sugar in a Starbucks Beverage"
   ]
  },
  {
   "cell_type": "code",
   "execution_count": 100,
   "id": "4458e258-fd2e-4a0f-bbf1-33542bfbb89f",
   "metadata": {
    "tags": []
   },
   "outputs": [
    {
     "name": "stdout",
     "output_type": "stream",
     "text": [
      "the average sugar  in grams in a starbucks beverage is 33.02\n"
     ]
    },
    {
     "data": {
      "image/png": "[encoded data removed]",
      "text/plain": [
       "<Figure size 640x480 with 1 Axes>"
      ]
     },
     "metadata": {},
     "output_type": "display_data"
    }
   ],
   "source": [
    "col_name = \" Sugars (g)\"\n",
    "\n",
    "avg_sugar_val  = round(drinks_df[col_name].mean(),2)\n",
    "avg_sugar_val\n",
    "\n",
    "print(f\"the average sugar  in grams in a starbucks beverage is {avg_sugar_val}\")\n",
    "\n",
    "#box plot \n",
    "plt.boxplot(drinks_df[col_name])\n",
    "\n",
    "plt.ylabel(col_name)\n",
    "plt.title(f'Box Plot of {col_name}')\n",
    "plt.yticks(range(0, int(drinks_df[col_name].max()) + 10, 10))\n",
    "plt.show()"
   ]
  },
  {
   "cell_type": "code",
   "execution_count": null,
   "id": "4ebdfc12-9002-479c-a7af-0d054ef332e3",
   "metadata": {},
   "outputs": [],
   "source": []
  },
  {
   "cell_type": "code",
   "execution_count": null,
   "id": "db1b72c4-7345-4595-a356-3b0232d3812d",
   "metadata": {},
   "outputs": [],
   "source": []
  },
  {
   "cell_type": "code",
   "execution_count": null,
   "id": "eaef3e50-6a6b-4580-ba38-d19cf8caa343",
   "metadata": {},
   "outputs": [],
   "source": []
  }
 ],
 "metadata": {
  "kernelspec": {
   "display_name": "Python 3 (ipykernel)",
   "language": "python",
   "name": "python3"
  },
  "language_info": {
   "codemirror_mode": {
    "name": "ipython",
    "version": 3
   },
   "file_extension": ".py",
   "mimetype": "text/x-python",
   "name": "python",
   "nbconvert_exporter": "python",
   "pygments_lexer": "ipython3",
   "version": "3.10.10"
  }
 },
 "nbformat": 4,
 "nbformat_minor": 5
}
